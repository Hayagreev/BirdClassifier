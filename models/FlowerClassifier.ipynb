{
  "cells": [
    {
      "cell_type": "code",
      "execution_count": 21,
      "metadata": {
        "id": "Ql8CvqnUI0yQ",
        "colab": {
          "base_uri": "https://localhost:8080/"
        },
        "outputId": "ccc55107-3dcc-45a2-bda3-13f215f5c8fd"
      },
      "outputs": [
        {
          "output_type": "stream",
          "name": "stdout",
          "text": [
            "Requirement already satisfied: kaggle in /usr/local/lib/python3.10/dist-packages (1.6.12)\n",
            "Requirement already satisfied: six>=1.10 in /usr/local/lib/python3.10/dist-packages (from kaggle) (1.16.0)\n",
            "Requirement already satisfied: certifi>=2023.7.22 in /usr/local/lib/python3.10/dist-packages (from kaggle) (2024.2.2)\n",
            "Requirement already satisfied: python-dateutil in /usr/local/lib/python3.10/dist-packages (from kaggle) (2.8.2)\n",
            "Requirement already satisfied: requests in /usr/local/lib/python3.10/dist-packages (from kaggle) (2.31.0)\n",
            "Requirement already satisfied: tqdm in /usr/local/lib/python3.10/dist-packages (from kaggle) (4.66.2)\n",
            "Requirement already satisfied: python-slugify in /usr/local/lib/python3.10/dist-packages (from kaggle) (8.0.4)\n",
            "Requirement already satisfied: urllib3 in /usr/local/lib/python3.10/dist-packages (from kaggle) (2.0.7)\n",
            "Requirement already satisfied: bleach in /usr/local/lib/python3.10/dist-packages (from kaggle) (6.1.0)\n",
            "Requirement already satisfied: webencodings in /usr/local/lib/python3.10/dist-packages (from bleach->kaggle) (0.5.1)\n",
            "Requirement already satisfied: text-unidecode>=1.3 in /usr/local/lib/python3.10/dist-packages (from python-slugify->kaggle) (1.3)\n",
            "Requirement already satisfied: charset-normalizer<4,>=2 in /usr/local/lib/python3.10/dist-packages (from requests->kaggle) (3.3.2)\n",
            "Requirement already satisfied: idna<4,>=2.5 in /usr/local/lib/python3.10/dist-packages (from requests->kaggle) (3.7)\n"
          ]
        }
      ],
      "source": [
        "!pip install kaggle"
      ]
    },
    {
      "cell_type": "code",
      "execution_count": 22,
      "metadata": {
        "id": "FKdOEOQug9Hj"
      },
      "outputs": [],
      "source": [
        "import os"
      ]
    },
    {
      "cell_type": "code",
      "execution_count": 23,
      "metadata": {
        "id": "f4DCVfsxg_Vi"
      },
      "outputs": [],
      "source": [
        "os.environ['KAGGLE_CONFIG_DIR'] = '/content/'"
      ]
    },
    {
      "cell_type": "code",
      "execution_count": 24,
      "metadata": {
        "id": "2JQsc9Sh4cEB",
        "colab": {
          "base_uri": "https://localhost:8080/"
        },
        "outputId": "30d8be22-d826-4c79-d6c9-41d76b5320f2"
      },
      "outputs": [
        {
          "output_type": "stream",
          "name": "stdout",
          "text": [
            "chmod: cannot access '/content/kaggle.json': No such file or directory\n"
          ]
        }
      ],
      "source": [
        "!chmod 600 /content/kaggle.json"
      ]
    },
    {
      "cell_type": "code",
      "execution_count": 25,
      "metadata": {
        "colab": {
          "base_uri": "https://localhost:8080/"
        },
        "id": "ViLqQkLhm5f0",
        "outputId": "9e0781db-6e13-41bb-a546-9233569f96ce"
      },
      "outputs": [
        {
          "output_type": "stream",
          "name": "stdout",
          "text": [
            "Dataset URL: https://www.kaggle.com/datasets/marquis03/flower-classification\n",
            "License(s): Apache 2.0\n",
            "flower-classification.zip: Skipping, found more recently modified local copy (use --force to force download)\n"
          ]
        }
      ],
      "source": [
        "!kaggle datasets download -d marquis03/flower-classification"
      ]
    },
    {
      "cell_type": "code",
      "execution_count": 26,
      "metadata": {
        "colab": {
          "base_uri": "https://localhost:8080/"
        },
        "id": "jsM5doMXnOZW",
        "outputId": "f4e1a381-c24f-4ea4-8f3d-c6e5039c529a"
      },
      "outputs": [
        {
          "output_type": "stream",
          "name": "stdout",
          "text": [
            "Reading package lists... Done\n",
            "Building dependency tree... Done\n",
            "Reading state information... Done\n",
            "unzip is already the newest version (6.0-26ubuntu3.2).\n",
            "0 upgraded, 0 newly installed, 0 to remove and 45 not upgraded.\n"
          ]
        }
      ],
      "source": [
        "!sudo apt-get install unzip"
      ]
    },
    {
      "cell_type": "code",
      "execution_count": 27,
      "metadata": {
        "colab": {
          "base_uri": "https://localhost:8080/"
        },
        "id": "3p--yX3-rXUV",
        "outputId": "2a9934aa-2486-44b1-b1df-7ec354891580"
      },
      "outputs": [
        {
          "output_type": "stream",
          "name": "stdout",
          "text": [
            "/bin/bash: line 1: nvidia_smi: command not found\n"
          ]
        }
      ],
      "source": [
        "!nvidia_smi"
      ]
    },
    {
      "cell_type": "code",
      "execution_count": 28,
      "metadata": {
        "colab": {
          "base_uri": "https://localhost:8080/"
        },
        "id": "GE0B1UkfrmsU",
        "outputId": "b3e9a3dc-aa29-453d-fd57-a22665d1b62f"
      },
      "outputs": [
        {
          "output_type": "stream",
          "name": "stdout",
          "text": [
            "Tue May  7 08:43:15 2024       \n",
            "+---------------------------------------------------------------------------------------+\n",
            "| NVIDIA-SMI 535.104.05             Driver Version: 535.104.05   CUDA Version: 12.2     |\n",
            "|-----------------------------------------+----------------------+----------------------+\n",
            "| GPU  Name                 Persistence-M | Bus-Id        Disp.A | Volatile Uncorr. ECC |\n",
            "| Fan  Temp   Perf          Pwr:Usage/Cap |         Memory-Usage | GPU-Util  Compute M. |\n",
            "|                                         |                      |               MIG M. |\n",
            "|=========================================+======================+======================|\n",
            "|   0  Tesla T4                       Off | 00000000:00:04.0 Off |                    0 |\n",
            "| N/A   46C    P0              27W /  70W |    103MiB / 15360MiB |      0%      Default |\n",
            "|                                         |                      |                  N/A |\n",
            "+-----------------------------------------+----------------------+----------------------+\n",
            "                                                                                         \n",
            "+---------------------------------------------------------------------------------------+\n",
            "| Processes:                                                                            |\n",
            "|  GPU   GI   CI        PID   Type   Process name                            GPU Memory |\n",
            "|        ID   ID                                                             Usage      |\n",
            "|=======================================================================================|\n",
            "+---------------------------------------------------------------------------------------+\n"
          ]
        }
      ],
      "source": [
        "!nvidia-smi"
      ]
    },
    {
      "cell_type": "code",
      "execution_count": 29,
      "metadata": {
        "colab": {
          "base_uri": "https://localhost:8080/"
        },
        "id": "rrPoAn_6rvSG",
        "outputId": "8a074f9e-72c4-4cda-af04-e8af5e98ed1f"
      },
      "outputs": [
        {
          "output_type": "execute_result",
          "data": {
            "text/plain": [
              "True"
            ]
          },
          "metadata": {},
          "execution_count": 29
        }
      ],
      "source": [
        "import torch\n",
        "torch.cuda.is_available()"
      ]
    },
    {
      "cell_type": "code",
      "execution_count": 30,
      "metadata": {
        "colab": {
          "base_uri": "https://localhost:8080/",
          "height": 35
        },
        "id": "fgHw8-LTr4ds",
        "outputId": "e662a8d9-b7a5-45ed-b237-b2ce63056724"
      },
      "outputs": [
        {
          "output_type": "execute_result",
          "data": {
            "text/plain": [
              "'/device:GPU:0'"
            ],
            "application/vnd.google.colaboratory.intrinsic+json": {
              "type": "string"
            }
          },
          "metadata": {},
          "execution_count": 30
        }
      ],
      "source": [
        "import tensorflow as tf\n",
        "tf.test.gpu_device_name()"
      ]
    },
    {
      "cell_type": "code",
      "execution_count": 31,
      "metadata": {
        "colab": {
          "base_uri": "https://localhost:8080/"
        },
        "id": "C_vWp02KonAt",
        "outputId": "8249483a-6e18-4deb-897d-07c36abcb2f5"
      },
      "outputs": [
        {
          "output_type": "stream",
          "name": "stdout",
          "text": [
            "Archive:  /content/flower-classification.zip\n",
            "replace /content/flower_data/classname.txt? [y]es, [n]o, [A]ll, [N]one, [r]ename: "
          ]
        }
      ],
      "source": [
        "!unzip '/content/flower-classification.zip' -d '/content/flower_data'"
      ]
    },
    {
      "cell_type": "code",
      "execution_count": 32,
      "metadata": {
        "id": "YQKqXwu5pVma"
      },
      "outputs": [],
      "source": [
        "import tensorflow as tf\n",
        "from tensorflow.keras import models, layers\n",
        "import matplotlib.pyplot as plt\n",
        "from IPython.display import HTML"
      ]
    },
    {
      "cell_type": "code",
      "execution_count": 33,
      "metadata": {
        "id": "lfMxPk0HrJEp"
      },
      "outputs": [],
      "source": [
        "BATCH_SIZE=4\n",
        "IMAGE_SIZE=256\n",
        "CHANNELS=3"
      ]
    },
    {
      "cell_type": "code",
      "execution_count": 34,
      "metadata": {
        "colab": {
          "base_uri": "https://localhost:8080/"
        },
        "id": "MpvpJLAhqMcZ",
        "outputId": "a7b208f4-e0e7-4bd5-c89c-2a31e976b206"
      },
      "outputs": [
        {
          "output_type": "stream",
          "name": "stdout",
          "text": [
            "Found 13642 files belonging to 14 classes.\n",
            "Using 12278 files for training.\n",
            "Using 1364 files for validation.\n"
          ]
        }
      ],
      "source": [
        "train_ds, test_ds = tf.keras.preprocessing.image_dataset_from_directory(\"/content/flower_data/train\",\n",
        "                                                              validation_split=0.1,\n",
        "                                                              subset=\"both\",\n",
        "                                                              seed=162,\n",
        "                                                              shuffle=True,\n",
        "                                                              image_size=(IMAGE_SIZE, IMAGE_SIZE),\n",
        "                                                              batch_size=BATCH_SIZE)"
      ]
    },
    {
      "cell_type": "code",
      "source": [
        "val_ds = tf.keras.preprocessing.image_dataset_from_directory(\"/content/flower_data/val\",\n",
        "                                                              seed=162,\n",
        "                                                              shuffle=True,\n",
        "                                                              image_size=(IMAGE_SIZE, IMAGE_SIZE),\n",
        "                                                              batch_size=BATCH_SIZE)"
      ],
      "metadata": {
        "colab": {
          "base_uri": "https://localhost:8080/"
        },
        "id": "OMDF6dSaKthR",
        "outputId": "dc9704ae-2e63-4180-a36e-bd838dd4abe0"
      },
      "execution_count": 35,
      "outputs": [
        {
          "output_type": "stream",
          "name": "stdout",
          "text": [
            "Found 98 files belonging to 14 classes.\n"
          ]
        }
      ]
    },
    {
      "cell_type": "code",
      "execution_count": 36,
      "metadata": {
        "id": "Qj7suAqurYMw"
      },
      "outputs": [],
      "source": [
        "classes = train_ds.class_names"
      ]
    },
    {
      "cell_type": "code",
      "execution_count": 37,
      "metadata": {
        "colab": {
          "base_uri": "https://localhost:8080/"
        },
        "id": "-9AjKNl5tWwR",
        "outputId": "47488d12-82a6-481d-e9cc-0d1381dceb9c"
      },
      "outputs": [
        {
          "output_type": "stream",
          "name": "stdout",
          "text": [
            "['astilbe', 'bellflower', 'black_eyed_susan', 'calendula', 'california_poppy', 'carnation', 'common_daisy', 'coreopsis', 'dandelion', 'iris', 'rose', 'sunflower', 'tulip', 'water_lily']\n"
          ]
        }
      ],
      "source": [
        "print(classes)"
      ]
    },
    {
      "cell_type": "code",
      "execution_count": 38,
      "metadata": {
        "id": "113SXAxpuv5X"
      },
      "outputs": [],
      "source": [
        "train_ds = train_ds.cache().shuffle(1000).prefetch(buffer_size=tf.data.AUTOTUNE)\n",
        "validation_ds = val_ds.cache().shuffle(1000).prefetch(buffer_size=tf.data.AUTOTUNE)"
      ]
    },
    {
      "cell_type": "code",
      "execution_count": 39,
      "metadata": {
        "id": "dzN6uUenwzpv"
      },
      "outputs": [],
      "source": [
        "resize_and_rescale = tf.keras.Sequential([\n",
        "  layers.experimental.preprocessing.Resizing(IMAGE_SIZE, IMAGE_SIZE),\n",
        "  layers.experimental.preprocessing.Rescaling(1./255),\n",
        "])"
      ]
    },
    {
      "cell_type": "code",
      "execution_count": 40,
      "metadata": {
        "id": "aSSu0muYto6y"
      },
      "outputs": [],
      "source": [
        "data_augmentation = tf.keras.Sequential([\n",
        "  layers.experimental.preprocessing.RandomFlip(\"horizontal_and_vertical\"),\n",
        "  layers.experimental.preprocessing.RandomRotation(0.2),\n",
        "])"
      ]
    },
    {
      "cell_type": "code",
      "execution_count": 41,
      "metadata": {
        "id": "_9lzZ-Y1xQ25"
      },
      "outputs": [],
      "source": [
        "train_ds = train_ds.map(\n",
        "    lambda x, y: (data_augmentation(x, training=True), y)\n",
        ").prefetch(buffer_size=tf.data.AUTOTUNE)"
      ]
    },
    {
      "cell_type": "code",
      "execution_count": 42,
      "metadata": {
        "id": "_ghR6XKU3rvC"
      },
      "outputs": [],
      "source": [
        "input_shape = (BATCH_SIZE, IMAGE_SIZE, IMAGE_SIZE, CHANNELS)\n",
        "n_classes = len(classes)"
      ]
    },
    {
      "cell_type": "code",
      "execution_count": 43,
      "metadata": {
        "colab": {
          "base_uri": "https://localhost:8080/"
        },
        "id": "F79XEFZA337Q",
        "outputId": "84f96799-f1a2-4f09-9fed-e6f12d920160"
      },
      "outputs": [
        {
          "output_type": "execute_result",
          "data": {
            "text/plain": [
              "14"
            ]
          },
          "metadata": {},
          "execution_count": 43
        }
      ],
      "source": [
        "n_classes"
      ]
    },
    {
      "cell_type": "code",
      "execution_count": 44,
      "metadata": {
        "id": "QPo4jwf234zS"
      },
      "outputs": [],
      "source": [
        "model_a = models.Sequential([\n",
        "    resize_and_rescale,\n",
        "    layers.Conv2D(32, kernel_size = (3,3), activation='relu', input_shape=input_shape),\n",
        "    layers.MaxPooling2D((2, 2)),\n",
        "    layers.Conv2D(64,  kernel_size = (3,3), activation='relu'),\n",
        "    layers.MaxPooling2D((2, 2)),\n",
        "    layers.Conv2D(64,  kernel_size = (3,3), activation='relu'),\n",
        "    layers.MaxPooling2D((2, 2)),\n",
        "    layers.Conv2D(64, (3, 3), activation='relu'),\n",
        "    layers.MaxPooling2D((2, 2)),\n",
        "    layers.Conv2D(64, (3, 3), activation='relu'),\n",
        "    layers.MaxPooling2D((2, 2)),\n",
        "    layers.Conv2D(64, (3, 3), activation='relu'),\n",
        "    layers.MaxPooling2D((2, 2)),\n",
        "    layers.Flatten(),\n",
        "    layers.Dense(64, activation='relu'),\n",
        "    layers.Dense(n_classes, activation='softmax'),\n",
        "])"
      ]
    },
    {
      "cell_type": "code",
      "execution_count": 45,
      "metadata": {
        "id": "2RMPH-Vm5YgQ"
      },
      "outputs": [],
      "source": [
        "model_a.build(input_shape=input_shape)"
      ]
    },
    {
      "cell_type": "code",
      "execution_count": 46,
      "metadata": {
        "id": "5sxmFAdZ6b4d"
      },
      "outputs": [],
      "source": [
        "model_a.compile(\n",
        "    optimizer='adam',\n",
        "    loss=tf.keras.losses.SparseCategoricalCrossentropy(from_logits=False),\n",
        "    metrics=['accuracy']\n",
        ")"
      ]
    },
    {
      "cell_type": "code",
      "execution_count": null,
      "metadata": {
        "colab": {
          "base_uri": "https://localhost:8080/"
        },
        "id": "b086Qjbs6jM5",
        "outputId": "df67fdc7-c62b-4534-a99b-79d7195dbb4c"
      },
      "outputs": [
        {
          "output_type": "stream",
          "name": "stdout",
          "text": [
            "Epoch 1/50\n",
            "3070/3070 [==============================] - 141s 43ms/step - loss: 1.9307 - accuracy: 0.3063 - val_loss: 1.7289 - val_accuracy: 0.3776\n",
            "Epoch 2/50\n",
            "3070/3070 [==============================] - 121s 39ms/step - loss: 1.4781 - accuracy: 0.4765 - val_loss: 1.1944 - val_accuracy: 0.5306\n",
            "Epoch 3/50\n",
            "3070/3070 [==============================] - 127s 41ms/step - loss: 1.3243 - accuracy: 0.5328 - val_loss: 1.2157 - val_accuracy: 0.5918\n",
            "Epoch 4/50\n",
            "3070/3070 [==============================] - 121s 39ms/step - loss: 1.2263 - accuracy: 0.5692 - val_loss: 1.0714 - val_accuracy: 0.6531\n",
            "Epoch 5/50\n",
            "3070/3070 [==============================] - 125s 41ms/step - loss: 1.1725 - accuracy: 0.5911 - val_loss: 1.2195 - val_accuracy: 0.5714\n",
            "Epoch 6/50\n",
            "3070/3070 [==============================] - 127s 41ms/step - loss: 1.1268 - accuracy: 0.6100 - val_loss: 0.9646 - val_accuracy: 0.6633\n",
            "Epoch 7/50\n",
            "3070/3070 [==============================] - 121s 39ms/step - loss: 1.0825 - accuracy: 0.6284 - val_loss: 0.9357 - val_accuracy: 0.6531\n",
            "Epoch 8/50\n",
            "3070/3070 [==============================] - 127s 41ms/step - loss: 1.0459 - accuracy: 0.6384 - val_loss: 0.9392 - val_accuracy: 0.6735\n",
            "Epoch 9/50\n",
            "3070/3070 [==============================] - 126s 41ms/step - loss: 1.0258 - accuracy: 0.6442 - val_loss: 0.8898 - val_accuracy: 0.7143\n",
            "Epoch 10/50\n",
            "3070/3070 [==============================] - 124s 41ms/step - loss: 1.0010 - accuracy: 0.6539 - val_loss: 1.0229 - val_accuracy: 0.7143\n",
            "Epoch 11/50\n",
            "3070/3070 [==============================] - 126s 41ms/step - loss: 0.9901 - accuracy: 0.6599 - val_loss: 0.8951 - val_accuracy: 0.7143\n",
            "Epoch 12/50\n",
            "3070/3070 [==============================] - 129s 42ms/step - loss: 0.9556 - accuracy: 0.6684 - val_loss: 0.9428 - val_accuracy: 0.6837\n",
            "Epoch 13/50\n",
            "3070/3070 [==============================] - 116s 38ms/step - loss: 0.9448 - accuracy: 0.6804 - val_loss: 0.8173 - val_accuracy: 0.7449\n",
            "Epoch 14/50\n",
            "3070/3070 [==============================] - 125s 41ms/step - loss: 0.9364 - accuracy: 0.6771 - val_loss: 0.7868 - val_accuracy: 0.7857\n",
            "Epoch 15/50\n",
            "3070/3070 [==============================] - 124s 41ms/step - loss: 0.9126 - accuracy: 0.6890 - val_loss: 0.7783 - val_accuracy: 0.7143\n",
            "Epoch 16/50\n",
            "3070/3070 [==============================] - 121s 39ms/step - loss: 0.9151 - accuracy: 0.6919 - val_loss: 0.7279 - val_accuracy: 0.7143\n",
            "Epoch 17/50\n",
            "3070/3070 [==============================] - 124s 40ms/step - loss: 0.9048 - accuracy: 0.6925 - val_loss: 0.8131 - val_accuracy: 0.7347\n",
            "Epoch 18/50\n",
            "3070/3070 [==============================] - 121s 39ms/step - loss: 0.8840 - accuracy: 0.6951 - val_loss: 0.6941 - val_accuracy: 0.7857\n",
            "Epoch 19/50\n",
            "3070/3070 [==============================] - 123s 40ms/step - loss: 0.8949 - accuracy: 0.6969 - val_loss: 0.7502 - val_accuracy: 0.7551\n",
            "Epoch 20/50\n",
            "3070/3070 [==============================] - 120s 39ms/step - loss: 0.8810 - accuracy: 0.6960 - val_loss: 0.8717 - val_accuracy: 0.6327\n",
            "Epoch 21/50\n",
            " 263/3070 [=>............................] - ETA: 1:52 - loss: 0.9469 - accuracy: 0.6559"
          ]
        }
      ],
      "source": [
        "history_a = model_a.fit(\n",
        "    train_ds,\n",
        "    batch_size=BATCH_SIZE,\n",
        "    validation_data=validation_ds,\n",
        "    verbose=1,\n",
        "    epochs=50,\n",
        ")"
      ]
    },
    {
      "cell_type": "code",
      "source": [
        "model_a.save('/content/model_a')"
      ],
      "metadata": {
        "id": "LUxYWmOXM0lm"
      },
      "execution_count": null,
      "outputs": []
    },
    {
      "cell_type": "code",
      "source": [
        "model_b = models.Sequential([\n",
        "    resize_and_rescale,\n",
        "    layers.Conv2D(64, kernel_size=(3, 3), activation='relu', input_shape=input_shape),\n",
        "    layers.MaxPooling2D((2, 2)),\n",
        "    layers.Conv2D(128, kernel_size=(3, 3), activation='relu'),\n",
        "    layers.MaxPooling2D((2, 2)),\n",
        "    layers.Conv2D(256, kernel_size=(3, 3), activation='relu'),\n",
        "    layers.MaxPooling2D((2, 2)),\n",
        "    layers.Conv2D(512, kernel_size=(3, 3), activation='relu'),\n",
        "    layers.MaxPooling2D((2, 2)),\n",
        "    layers.Flatten(),\n",
        "    layers.Dense(256, activation='relu'),\n",
        "    layers.Dropout(0.5),\n",
        "    layers.Dense(n_classes, activation='softmax'),\n",
        "])"
      ],
      "metadata": {
        "id": "srejgrAMNx0-"
      },
      "execution_count": null,
      "outputs": []
    },
    {
      "cell_type": "code",
      "source": [
        "model_b.build(input_shape=input_shape)"
      ],
      "metadata": {
        "id": "i42OPQuyN2ms"
      },
      "execution_count": null,
      "outputs": []
    },
    {
      "cell_type": "code",
      "source": [
        "model_b.compile(\n",
        "    optimizer='adam',\n",
        "    loss=tf.keras.losses.SparseCategoricalCrossentropy(from_logits=False),\n",
        "    metrics=['accuracy']\n",
        ")"
      ],
      "metadata": {
        "id": "5UiHJInfN6Yj"
      },
      "execution_count": null,
      "outputs": []
    },
    {
      "cell_type": "code",
      "source": [
        "history_b = model_b.fit(\n",
        "    train_ds,\n",
        "    batch_size=BATCH_SIZE,\n",
        "    validation_data=validation_ds,\n",
        "    verbose=1,\n",
        "    epochs=50,\n",
        ")"
      ],
      "metadata": {
        "id": "42utKb0FN9Qq"
      },
      "execution_count": null,
      "outputs": []
    },
    {
      "cell_type": "code",
      "source": [
        "model_b.save('/content/model_b')"
      ],
      "metadata": {
        "id": "jSFbapODOCAh"
      },
      "execution_count": null,
      "outputs": []
    },
    {
      "cell_type": "markdown",
      "metadata": {
        "id": "8i8J2zaRq-qM"
      },
      "source": []
    }
  ],
  "metadata": {
    "accelerator": "GPU",
    "colab": {
      "gpuType": "T4",
      "provenance": []
    },
    "kernelspec": {
      "display_name": "Python 3",
      "name": "python3"
    },
    "language_info": {
      "name": "python"
    }
  },
  "nbformat": 4,
  "nbformat_minor": 0
}