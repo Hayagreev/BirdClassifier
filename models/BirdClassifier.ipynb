{
 "cells": [
  {
   "cell_type": "code",
   "execution_count": 1,
   "metadata": {
    "colab": {
     "base_uri": "https://localhost:8080/"
    },
    "id": "Ql8CvqnUI0yQ",
    "outputId": "ccc55107-3dcc-45a2-bda3-13f215f5c8fd"
   },
   "outputs": [
    {
     "name": "stdout",
     "output_type": "stream",
     "text": [
      "Defaulting to user installation because normal site-packages is not writeable\n",
      "\u001b[33mWARNING: Ignoring invalid distribution ~ensorflow (/home/x-hdilip/.local/lib/python3.11/site-packages)\u001b[0m\u001b[33m\n",
      "\u001b[0m\u001b[33mWARNING: Ignoring invalid distribution ~ensorflow (/home/x-hdilip/.local/lib/python3.11/site-packages)\u001b[0m\u001b[33m\n",
      "\u001b[0mRequirement already satisfied: kaggle in ./.local/lib/python3.11/site-packages (1.6.12)\n",
      "Requirement already satisfied: six>=1.10 in /apps/anvil/external/apps/conda/2024.02/lib/python3.11/site-packages (from kaggle) (1.16.0)\n",
      "Requirement already satisfied: certifi>=2023.7.22 in /apps/anvil/external/apps/conda/2024.02/lib/python3.11/site-packages (from kaggle) (2024.2.2)\n",
      "Requirement already satisfied: python-dateutil in /apps/anvil/external/apps/conda/2024.02/lib/python3.11/site-packages (from kaggle) (2.8.2)\n",
      "Requirement already satisfied: requests in /apps/anvil/external/apps/conda/2024.02/lib/python3.11/site-packages (from kaggle) (2.31.0)\n",
      "Requirement already satisfied: tqdm in /apps/anvil/external/apps/conda/2024.02/lib/python3.11/site-packages (from kaggle) (4.65.0)\n",
      "Requirement already satisfied: python-slugify in /apps/anvil/external/apps/conda/2024.02/lib/python3.11/site-packages (from kaggle) (5.0.2)\n",
      "Requirement already satisfied: urllib3 in /apps/anvil/external/apps/conda/2024.02/lib/python3.11/site-packages (from kaggle) (2.0.7)\n",
      "Requirement already satisfied: bleach in /apps/anvil/external/apps/conda/2024.02/lib/python3.11/site-packages (from kaggle) (4.1.0)\n",
      "Requirement already satisfied: packaging in /apps/anvil/external/apps/conda/2024.02/lib/python3.11/site-packages (from bleach->kaggle) (23.1)\n",
      "Requirement already satisfied: webencodings in /apps/anvil/external/apps/conda/2024.02/lib/python3.11/site-packages (from bleach->kaggle) (0.5.1)\n",
      "Requirement already satisfied: text-unidecode>=1.3 in /apps/anvil/external/apps/conda/2024.02/lib/python3.11/site-packages (from python-slugify->kaggle) (1.3)\n",
      "Requirement already satisfied: charset-normalizer<4,>=2 in /apps/anvil/external/apps/conda/2024.02/lib/python3.11/site-packages (from requests->kaggle) (2.0.4)\n",
      "Requirement already satisfied: idna<4,>=2.5 in /apps/anvil/external/apps/conda/2024.02/lib/python3.11/site-packages (from requests->kaggle) (3.4)\n",
      "\u001b[33mWARNING: Ignoring invalid distribution ~ensorflow (/home/x-hdilip/.local/lib/python3.11/site-packages)\u001b[0m\u001b[33m\n",
      "\u001b[0m\u001b[33mWARNING: Ignoring invalid distribution ~ensorflow (/home/x-hdilip/.local/lib/python3.11/site-packages)\u001b[0m\u001b[33m\n",
      "\u001b[0m\u001b[33mWARNING: Ignoring invalid distribution ~ensorflow (/home/x-hdilip/.local/lib/python3.11/site-packages)\u001b[0m\u001b[33m\n",
      "\u001b[0m\u001b[33mWARNING: Ignoring invalid distribution ~ensorflow (/home/x-hdilip/.local/lib/python3.11/site-packages)\u001b[0m\u001b[33m\n",
      "\u001b[0m"
     ]
    }
   ],
   "source": [
    "!pip install kaggle"
   ]
  },
  {
   "cell_type": "code",
   "execution_count": 1,
   "metadata": {
    "id": "FKdOEOQug9Hj"
   },
   "outputs": [],
   "source": [
    "import os"
   ]
  },
  {
   "cell_type": "code",
   "execution_count": 5,
   "metadata": {
    "id": "f4DCVfsxg_Vi"
   },
   "outputs": [],
   "source": [
    "os.environ['KAGGLE_CONFIG_DIR'] = '/'"
   ]
  },
  {
   "cell_type": "code",
   "execution_count": 6,
   "metadata": {
    "colab": {
     "base_uri": "https://localhost:8080/"
    },
    "id": "2JQsc9Sh4cEB",
    "outputId": "30d8be22-d826-4c79-d6c9-41d76b5320f2"
   },
   "outputs": [],
   "source": [
    "!chmod 600 kaggle.json"
   ]
  },
  {
   "cell_type": "code",
   "execution_count": 23,
   "metadata": {
    "colab": {
     "base_uri": "https://localhost:8080/"
    },
    "id": "ViLqQkLhm5f0",
    "outputId": "9e0781db-6e13-41bb-a546-9233569f96ce"
   },
   "outputs": [
    {
     "name": "stdout",
     "output_type": "stream",
     "text": [
      "Dataset URL: https://www.kaggle.com/datasets/ichhadhari/indian-birds\n",
      "License(s): CC0-1.0\n",
      "indian-birds.zip: Skipping, found more recently modified local copy (use --force to force download)\n"
     ]
    }
   ],
   "source": [
    "!kaggle datasets download -d ichhadhari/indian-birds"
   ]
  },
  {
   "cell_type": "code",
   "execution_count": 24,
   "metadata": {
    "colab": {
     "base_uri": "https://localhost:8080/"
    },
    "id": "jsM5doMXnOZW",
    "outputId": "f4e1a381-c24f-4ea4-8f3d-c6e5039c529a"
   },
   "outputs": [
    {
     "name": "stdout",
     "output_type": "stream",
     "text": [
      "/bin/bash: apt-get: command not found\n"
     ]
    }
   ],
   "source": [
    "!apt-get install unzip"
   ]
  },
  {
   "cell_type": "code",
   "execution_count": 25,
   "metadata": {
    "colab": {
     "base_uri": "https://localhost:8080/"
    },
    "id": "3p--yX3-rXUV",
    "outputId": "2a9934aa-2486-44b1-b1df-7ec354891580"
   },
   "outputs": [
    {
     "name": "stdout",
     "output_type": "stream",
     "text": [
      "/bin/bash: nvidia_smi: command not found\n"
     ]
    }
   ],
   "source": [
    "!nvidia_smi"
   ]
  },
  {
   "cell_type": "code",
   "execution_count": 26,
   "metadata": {
    "colab": {
     "base_uri": "https://localhost:8080/"
    },
    "id": "GE0B1UkfrmsU",
    "outputId": "b3e9a3dc-aa29-453d-fd57-a22665d1b62f"
   },
   "outputs": [
    {
     "name": "stdout",
     "output_type": "stream",
     "text": [
      "/bin/bash: nvidia-smi: command not found\n"
     ]
    }
   ],
   "source": [
    "!nvidia-smi"
   ]
  },
  {
   "cell_type": "code",
   "execution_count": 27,
   "metadata": {
    "colab": {
     "base_uri": "https://localhost:8080/"
    },
    "id": "rrPoAn_6rvSG",
    "outputId": "8a074f9e-72c4-4cda-af04-e8af5e98ed1f"
   },
   "outputs": [
    {
     "ename": "ModuleNotFoundError",
     "evalue": "No module named 'torch'",
     "output_type": "error",
     "traceback": [
      "\u001b[0;31m---------------------------------------------------------------------------\u001b[0m",
      "\u001b[0;31mModuleNotFoundError\u001b[0m                       Traceback (most recent call last)",
      "Cell \u001b[0;32mIn[27], line 1\u001b[0m\n\u001b[0;32m----> 1\u001b[0m \u001b[38;5;28;01mimport\u001b[39;00m \u001b[38;5;21;01mtorch\u001b[39;00m\n\u001b[1;32m      2\u001b[0m torch\u001b[38;5;241m.\u001b[39mcuda\u001b[38;5;241m.\u001b[39mis_available()\n",
      "\u001b[0;31mModuleNotFoundError\u001b[0m: No module named 'torch'"
     ]
    }
   ],
   "source": [
    "import torch\n",
    "torch.cuda.is_available()"
   ]
  },
  {
   "cell_type": "code",
   "execution_count": 1,
   "metadata": {
    "colab": {
     "base_uri": "https://localhost:8080/",
     "height": 35
    },
    "id": "fgHw8-LTr4ds",
    "outputId": "e662a8d9-b7a5-45ed-b237-b2ce63056724"
   },
   "outputs": [
    {
     "name": "stderr",
     "output_type": "stream",
     "text": [
      "2024-05-08 13:34:09.208613: I tensorflow/tsl/cuda/cudart_stub.cc:28] Could not find cuda drivers on your machine, GPU will not be used.\n",
      "2024-05-08 13:34:09.238373: I tensorflow/tsl/cuda/cudart_stub.cc:28] Could not find cuda drivers on your machine, GPU will not be used.\n",
      "2024-05-08 13:34:09.238975: I tensorflow/core/platform/cpu_feature_guard.cc:182] This TensorFlow binary is optimized to use available CPU instructions in performance-critical operations.\n",
      "To enable the following instructions: AVX2 FMA, in other operations, rebuild TensorFlow with the appropriate compiler flags.\n",
      "2024-05-08 13:34:10.476870: W tensorflow/compiler/tf2tensorrt/utils/py_utils.cc:38] TF-TRT Warning: Could not find TensorRT\n"
     ]
    },
    {
     "data": {
      "text/plain": [
       "''"
      ]
     },
     "execution_count": 1,
     "metadata": {},
     "output_type": "execute_result"
    }
   ],
   "source": [
    "import tensorflow as tf\n",
    "tf.test.gpu_device_name()"
   ]
  },
  {
   "cell_type": "code",
   "execution_count": 30,
   "metadata": {
    "colab": {
     "base_uri": "https://localhost:8080/"
    },
    "id": "C_vWp02KonAt",
    "outputId": "8249483a-6e18-4deb-897d-07c36abcb2f5"
   },
   "outputs": [],
   "source": [
    "!unzip -qq 'indian-birds.zip' -d 'birds_data'"
   ]
  },
  {
   "cell_type": "code",
   "execution_count": 3,
   "metadata": {
    "id": "YQKqXwu5pVma"
   },
   "outputs": [
    {
     "name": "stdout",
     "output_type": "stream",
     "text": [
      "Defaulting to user installation because normal site-packages is not writeable\n",
      "\u001b[33mWARNING: Ignoring invalid distribution ~ensorflow (/home/x-hdilip/.local/lib/python3.11/site-packages)\u001b[0m\u001b[33m\n",
      "\u001b[0m\u001b[33mWARNING: Ignoring invalid distribution ~ensorflow (/home/x-hdilip/.local/lib/python3.11/site-packages)\u001b[0m\u001b[33m\n",
      "\u001b[0mCollecting tensorflow==2.13.1\n",
      "  Using cached tensorflow-2.13.1-cp311-cp311-manylinux_2_17_x86_64.manylinux2014_x86_64.whl.metadata (3.4 kB)\n",
      "Requirement already satisfied: absl-py>=1.0.0 in ./.local/lib/python3.11/site-packages (from tensorflow==2.13.1) (2.1.0)\n",
      "Requirement already satisfied: astunparse>=1.6.0 in ./.local/lib/python3.11/site-packages (from tensorflow==2.13.1) (1.6.3)\n",
      "Requirement already satisfied: flatbuffers>=23.1.21 in ./.local/lib/python3.11/site-packages (from tensorflow==2.13.1) (24.3.25)\n",
      "Requirement already satisfied: gast<=0.4.0,>=0.2.1 in ./.local/lib/python3.11/site-packages (from tensorflow==2.13.1) (0.4.0)\n",
      "Requirement already satisfied: google-pasta>=0.1.1 in ./.local/lib/python3.11/site-packages (from tensorflow==2.13.1) (0.2.0)\n",
      "Requirement already satisfied: grpcio<2.0,>=1.24.3 in ./.local/lib/python3.11/site-packages (from tensorflow==2.13.1) (1.63.0)\n",
      "Requirement already satisfied: h5py>=2.9.0 in /apps/anvil/external/apps/conda/2024.02/lib/python3.11/site-packages (from tensorflow==2.13.1) (3.9.0)\n",
      "Requirement already satisfied: keras<2.14,>=2.13.1 in ./.local/lib/python3.11/site-packages (from tensorflow==2.13.1) (2.13.1)\n",
      "Requirement already satisfied: libclang>=13.0.0 in ./.local/lib/python3.11/site-packages (from tensorflow==2.13.1) (18.1.1)\n",
      "Requirement already satisfied: numpy<=1.24.3,>=1.22 in ./.local/lib/python3.11/site-packages (from tensorflow==2.13.1) (1.24.3)\n",
      "Requirement already satisfied: opt-einsum>=2.3.2 in ./.local/lib/python3.11/site-packages (from tensorflow==2.13.1) (3.3.0)\n",
      "Requirement already satisfied: packaging in /apps/anvil/external/apps/conda/2024.02/lib/python3.11/site-packages (from tensorflow==2.13.1) (23.1)\n",
      "Requirement already satisfied: protobuf!=4.21.0,!=4.21.1,!=4.21.2,!=4.21.3,!=4.21.4,!=4.21.5,<5.0.0dev,>=3.20.3 in /apps/anvil/external/apps/conda/2024.02/lib/python3.11/site-packages (from tensorflow==2.13.1) (3.20.3)\n",
      "Requirement already satisfied: setuptools in /apps/anvil/external/apps/conda/2024.02/lib/python3.11/site-packages (from tensorflow==2.13.1) (68.2.2)\n",
      "Requirement already satisfied: six>=1.12.0 in /apps/anvil/external/apps/conda/2024.02/lib/python3.11/site-packages (from tensorflow==2.13.1) (1.16.0)\n",
      "Requirement already satisfied: tensorboard<2.14,>=2.13 in ./.local/lib/python3.11/site-packages (from tensorflow==2.13.1) (2.13.0)\n",
      "Requirement already satisfied: tensorflow-estimator<2.14,>=2.13.0 in ./.local/lib/python3.11/site-packages (from tensorflow==2.13.1) (2.13.0)\n",
      "Requirement already satisfied: termcolor>=1.1.0 in ./.local/lib/python3.11/site-packages (from tensorflow==2.13.1) (2.4.0)\n",
      "Requirement already satisfied: typing-extensions<4.6.0,>=3.6.6 in ./.local/lib/python3.11/site-packages (from tensorflow==2.13.1) (4.5.0)\n",
      "Requirement already satisfied: wrapt>=1.11.0 in /apps/anvil/external/apps/conda/2024.02/lib/python3.11/site-packages (from tensorflow==2.13.1) (1.14.1)\n",
      "Requirement already satisfied: tensorflow-io-gcs-filesystem>=0.23.1 in ./.local/lib/python3.11/site-packages (from tensorflow==2.13.1) (0.37.0)\n",
      "Requirement already satisfied: wheel<1.0,>=0.23.0 in /apps/anvil/external/apps/conda/2024.02/lib/python3.11/site-packages (from astunparse>=1.6.0->tensorflow==2.13.1) (0.41.2)\n",
      "Requirement already satisfied: google-auth<3,>=1.6.3 in ./.local/lib/python3.11/site-packages (from tensorboard<2.14,>=2.13->tensorflow==2.13.1) (2.29.0)\n",
      "Requirement already satisfied: google-auth-oauthlib<1.1,>=0.5 in ./.local/lib/python3.11/site-packages (from tensorboard<2.14,>=2.13->tensorflow==2.13.1) (1.0.0)\n",
      "Requirement already satisfied: markdown>=2.6.8 in /apps/anvil/external/apps/conda/2024.02/lib/python3.11/site-packages (from tensorboard<2.14,>=2.13->tensorflow==2.13.1) (3.4.1)\n",
      "Requirement already satisfied: requests<3,>=2.21.0 in /apps/anvil/external/apps/conda/2024.02/lib/python3.11/site-packages (from tensorboard<2.14,>=2.13->tensorflow==2.13.1) (2.31.0)\n",
      "Requirement already satisfied: tensorboard-data-server<0.8.0,>=0.7.0 in ./.local/lib/python3.11/site-packages (from tensorboard<2.14,>=2.13->tensorflow==2.13.1) (0.7.2)\n",
      "Requirement already satisfied: werkzeug>=1.0.1 in /apps/anvil/external/apps/conda/2024.02/lib/python3.11/site-packages (from tensorboard<2.14,>=2.13->tensorflow==2.13.1) (2.2.3)\n",
      "Requirement already satisfied: cachetools<6.0,>=2.0.0 in /apps/anvil/external/apps/conda/2024.02/lib/python3.11/site-packages (from google-auth<3,>=1.6.3->tensorboard<2.14,>=2.13->tensorflow==2.13.1) (4.2.2)\n",
      "Requirement already satisfied: pyasn1-modules>=0.2.1 in /apps/anvil/external/apps/conda/2024.02/lib/python3.11/site-packages (from google-auth<3,>=1.6.3->tensorboard<2.14,>=2.13->tensorflow==2.13.1) (0.2.8)\n",
      "Requirement already satisfied: rsa<5,>=3.1.4 in ./.local/lib/python3.11/site-packages (from google-auth<3,>=1.6.3->tensorboard<2.14,>=2.13->tensorflow==2.13.1) (4.9)\n",
      "Requirement already satisfied: requests-oauthlib>=0.7.0 in ./.local/lib/python3.11/site-packages (from google-auth-oauthlib<1.1,>=0.5->tensorboard<2.14,>=2.13->tensorflow==2.13.1) (2.0.0)\n",
      "Requirement already satisfied: charset-normalizer<4,>=2 in /apps/anvil/external/apps/conda/2024.02/lib/python3.11/site-packages (from requests<3,>=2.21.0->tensorboard<2.14,>=2.13->tensorflow==2.13.1) (2.0.4)\n",
      "Requirement already satisfied: idna<4,>=2.5 in /apps/anvil/external/apps/conda/2024.02/lib/python3.11/site-packages (from requests<3,>=2.21.0->tensorboard<2.14,>=2.13->tensorflow==2.13.1) (3.4)\n",
      "Requirement already satisfied: urllib3<3,>=1.21.1 in /apps/anvil/external/apps/conda/2024.02/lib/python3.11/site-packages (from requests<3,>=2.21.0->tensorboard<2.14,>=2.13->tensorflow==2.13.1) (2.0.7)\n",
      "Requirement already satisfied: certifi>=2017.4.17 in /apps/anvil/external/apps/conda/2024.02/lib/python3.11/site-packages (from requests<3,>=2.21.0->tensorboard<2.14,>=2.13->tensorflow==2.13.1) (2024.2.2)\n",
      "Requirement already satisfied: MarkupSafe>=2.1.1 in /apps/anvil/external/apps/conda/2024.02/lib/python3.11/site-packages (from werkzeug>=1.0.1->tensorboard<2.14,>=2.13->tensorflow==2.13.1) (2.1.3)\n",
      "Requirement already satisfied: pyasn1<0.5.0,>=0.4.6 in /apps/anvil/external/apps/conda/2024.02/lib/python3.11/site-packages (from pyasn1-modules>=0.2.1->google-auth<3,>=1.6.3->tensorboard<2.14,>=2.13->tensorflow==2.13.1) (0.4.8)\n",
      "Requirement already satisfied: oauthlib>=3.0.0 in ./.local/lib/python3.11/site-packages (from requests-oauthlib>=0.7.0->google-auth-oauthlib<1.1,>=0.5->tensorboard<2.14,>=2.13->tensorflow==2.13.1) (3.2.2)\n",
      "Using cached tensorflow-2.13.1-cp311-cp311-manylinux_2_17_x86_64.manylinux2014_x86_64.whl (479.7 MB)\n",
      "\u001b[33mWARNING: Ignoring invalid distribution ~ensorflow (/home/x-hdilip/.local/lib/python3.11/site-packages)\u001b[0m\u001b[33m\n",
      "\u001b[0mInstalling collected packages: tensorflow\n",
      "\u001b[33mWARNING: Ignoring invalid distribution ~ensorflow (/home/x-hdilip/.local/lib/python3.11/site-packages)\u001b[0m\u001b[33m\n",
      "\u001b[0mSuccessfully installed tensorflow\n",
      "\u001b[33mWARNING: Ignoring invalid distribution ~ensorflow (/home/x-hdilip/.local/lib/python3.11/site-packages)\u001b[0m\u001b[33m\n",
      "\u001b[0m\u001b[33mWARNING: Ignoring invalid distribution ~ensorflow (/home/x-hdilip/.local/lib/python3.11/site-packages)\u001b[0m\u001b[33m\n",
      "\u001b[0m\u001b[33mWARNING: Ignoring invalid distribution ~ensorflow (/home/x-hdilip/.local/lib/python3.11/site-packages)\u001b[0m\u001b[33m\n",
      "\u001b[0mNote: you may need to restart the kernel to use updated packages.\n"
     ]
    }
   ],
   "source": [
    "pip install tensorflow==2.13.1"
   ]
  },
  {
   "cell_type": "code",
   "execution_count": 4,
   "metadata": {},
   "outputs": [],
   "source": [
    "import tensorflow as tf\n",
    "from tensorflow.keras import models, layers\n",
    "import matplotlib.pyplot as plt\n",
    "from IPython.display import HTML"
   ]
  },
  {
   "cell_type": "code",
   "execution_count": 52,
   "metadata": {
    "id": "lfMxPk0HrJEp"
   },
   "outputs": [],
   "source": [
    "BATCH_SIZE=64 # 32 for model a\n",
    "IMAGE_SIZE=180\n",
    "CHANNELS=3"
   ]
  },
  {
   "cell_type": "code",
   "execution_count": 53,
   "metadata": {
    "colab": {
     "base_uri": "https://localhost:8080/"
    },
    "id": "MpvpJLAhqMcZ",
    "outputId": "a7b208f4-e0e7-4bd5-c89c-2a31e976b206"
   },
   "outputs": [
    {
     "name": "stdout",
     "output_type": "stream",
     "text": [
      "Found 30000 files belonging to 25 classes.\n"
     ]
    }
   ],
   "source": [
    "train_ds = tf.keras.preprocessing.image_dataset_from_directory(\"birds_data/Birds_25/train\",\n",
    "                                                              seed=162,\n",
    "                                                              shuffle=True,\n",
    "                                                              image_size=(IMAGE_SIZE, IMAGE_SIZE),\n",
    "                                                              batch_size=BATCH_SIZE)"
   ]
  },
  {
   "cell_type": "code",
   "execution_count": 54,
   "metadata": {
    "colab": {
     "base_uri": "https://localhost:8080/"
    },
    "id": "OMDF6dSaKthR",
    "outputId": "dc9704ae-2e63-4180-a36e-bd838dd4abe0"
   },
   "outputs": [
    {
     "name": "stdout",
     "output_type": "stream",
     "text": [
      "Found 7500 files belonging to 25 classes.\n",
      "Using 3750 files for training.\n",
      "Using 3750 files for validation.\n"
     ]
    }
   ],
   "source": [
    "val_ds, test_ds = tf.keras.preprocessing.image_dataset_from_directory(\"birds_data/Birds_25/valid\",\n",
    "                                                              validation_split=0.5,\n",
    "                                                              subset=\"both\",\n",
    "                                                              seed=162,\n",
    "                                                              shuffle=True,\n",
    "                                                              image_size=(IMAGE_SIZE, IMAGE_SIZE),\n",
    "                                                              batch_size=BATCH_SIZE)"
   ]
  },
  {
   "cell_type": "code",
   "execution_count": 55,
   "metadata": {
    "id": "Qj7suAqurYMw"
   },
   "outputs": [],
   "source": [
    "classes = train_ds.class_names"
   ]
  },
  {
   "cell_type": "code",
   "execution_count": 56,
   "metadata": {
    "colab": {
     "base_uri": "https://localhost:8080/"
    },
    "id": "-9AjKNl5tWwR",
    "outputId": "47488d12-82a6-481d-e9cc-0d1381dceb9c"
   },
   "outputs": [
    {
     "name": "stdout",
     "output_type": "stream",
     "text": [
      "['Asian-Green-Bee-Eater', 'Brown-Headed-Barbet', 'Cattle-Egret', 'Common-Kingfisher', 'Common-Myna', 'Common-Rosefinch', 'Common-Tailorbird', 'Coppersmith-Barbet', 'Forest-Wagtail', 'Gray-Wagtail', 'Hoopoe', 'House-Crow', 'Indian-Grey-Hornbill', 'Indian-Peacock', 'Indian-Pitta', 'Indian-Roller', 'Jungle-Babbler', 'Northern-Lapwing', 'Red-Wattled-Lapwing', 'Ruddy-Shelduck', 'Rufous-Treepie', 'Sarus-Crane', 'White-Breasted-Kingfisher', 'White-Breasted-Waterhen', 'White-Wagtail']\n"
     ]
    }
   ],
   "source": [
    "print(classes)"
   ]
  },
  {
   "cell_type": "code",
   "execution_count": 57,
   "metadata": {
    "id": "113SXAxpuv5X"
   },
   "outputs": [],
   "source": [
    "train_ds = train_ds.cache().shuffle(1000).prefetch(buffer_size=tf.data.AUTOTUNE)\n",
    "validation_ds = val_ds.cache().shuffle(1000).prefetch(buffer_size=tf.data.AUTOTUNE)"
   ]
  },
  {
   "cell_type": "code",
   "execution_count": 30,
   "metadata": {},
   "outputs": [
    {
     "name": "stdout",
     "output_type": "stream",
     "text": [
      "\u001b[33mWARNING: Ignoring invalid distribution ~ensorflow (/home/x-hdilip/.local/lib/python3.11/site-packages)\u001b[0m\u001b[33m\n",
      "\u001b[0m\u001b[33mWARNING: Ignoring invalid distribution ~ensorflow (/home/x-hdilip/.local/lib/python3.11/site-packages)\u001b[0m\u001b[33m\n",
      "\u001b[0mCollecting tensorflow==2.13.0\n",
      "  Using cached tensorflow-2.13.0-cp311-cp311-manylinux_2_17_x86_64.manylinux2014_x86_64.whl.metadata (3.4 kB)\n",
      "Requirement already satisfied: absl-py>=1.0.0 in ./.local/lib/python3.11/site-packages (from tensorflow==2.13.0) (2.1.0)\n",
      "Requirement already satisfied: astunparse>=1.6.0 in ./.local/lib/python3.11/site-packages (from tensorflow==2.13.0) (1.6.3)\n",
      "Requirement already satisfied: flatbuffers>=23.1.21 in ./.local/lib/python3.11/site-packages (from tensorflow==2.13.0) (24.3.25)\n",
      "Requirement already satisfied: gast<=0.4.0,>=0.2.1 in ./.local/lib/python3.11/site-packages (from tensorflow==2.13.0) (0.4.0)\n",
      "Requirement already satisfied: google-pasta>=0.1.1 in ./.local/lib/python3.11/site-packages (from tensorflow==2.13.0) (0.2.0)\n",
      "Requirement already satisfied: grpcio<2.0,>=1.24.3 in ./.local/lib/python3.11/site-packages (from tensorflow==2.13.0) (1.63.0)\n",
      "Requirement already satisfied: h5py>=2.9.0 in /apps/anvil/external/apps/conda/2024.02/lib/python3.11/site-packages (from tensorflow==2.13.0) (3.9.0)\n",
      "Requirement already satisfied: keras<2.14,>=2.13.1 in ./.local/lib/python3.11/site-packages (from tensorflow==2.13.0) (2.13.1)\n",
      "Requirement already satisfied: libclang>=13.0.0 in ./.local/lib/python3.11/site-packages (from tensorflow==2.13.0) (18.1.1)\n",
      "Requirement already satisfied: numpy<=1.24.3,>=1.22 in ./.local/lib/python3.11/site-packages (from tensorflow==2.13.0) (1.24.3)\n",
      "Requirement already satisfied: opt-einsum>=2.3.2 in ./.local/lib/python3.11/site-packages (from tensorflow==2.13.0) (3.3.0)\n",
      "Requirement already satisfied: packaging in /apps/anvil/external/apps/conda/2024.02/lib/python3.11/site-packages (from tensorflow==2.13.0) (23.1)\n",
      "Requirement already satisfied: protobuf!=4.21.0,!=4.21.1,!=4.21.2,!=4.21.3,!=4.21.4,!=4.21.5,<5.0.0dev,>=3.20.3 in /apps/anvil/external/apps/conda/2024.02/lib/python3.11/site-packages (from tensorflow==2.13.0) (3.20.3)\n",
      "Requirement already satisfied: setuptools in /apps/anvil/external/apps/conda/2024.02/lib/python3.11/site-packages (from tensorflow==2.13.0) (68.2.2)\n",
      "Requirement already satisfied: six>=1.12.0 in /apps/anvil/external/apps/conda/2024.02/lib/python3.11/site-packages (from tensorflow==2.13.0) (1.16.0)\n",
      "Requirement already satisfied: tensorboard<2.14,>=2.13 in ./.local/lib/python3.11/site-packages (from tensorflow==2.13.0) (2.13.0)\n",
      "Requirement already satisfied: tensorflow-estimator<2.14,>=2.13.0 in ./.local/lib/python3.11/site-packages (from tensorflow==2.13.0) (2.13.0)\n",
      "Requirement already satisfied: termcolor>=1.1.0 in ./.local/lib/python3.11/site-packages (from tensorflow==2.13.0) (2.4.0)\n",
      "Requirement already satisfied: typing-extensions<4.6.0,>=3.6.6 in ./.local/lib/python3.11/site-packages (from tensorflow==2.13.0) (4.5.0)\n",
      "Requirement already satisfied: wrapt>=1.11.0 in /apps/anvil/external/apps/conda/2024.02/lib/python3.11/site-packages (from tensorflow==2.13.0) (1.14.1)\n",
      "Requirement already satisfied: tensorflow-io-gcs-filesystem>=0.23.1 in ./.local/lib/python3.11/site-packages (from tensorflow==2.13.0) (0.37.0)\n",
      "Requirement already satisfied: wheel<1.0,>=0.23.0 in /apps/anvil/external/apps/conda/2024.02/lib/python3.11/site-packages (from astunparse>=1.6.0->tensorflow==2.13.0) (0.41.2)\n",
      "Requirement already satisfied: google-auth<3,>=1.6.3 in ./.local/lib/python3.11/site-packages (from tensorboard<2.14,>=2.13->tensorflow==2.13.0) (2.29.0)\n",
      "Requirement already satisfied: google-auth-oauthlib<1.1,>=0.5 in ./.local/lib/python3.11/site-packages (from tensorboard<2.14,>=2.13->tensorflow==2.13.0) (1.0.0)\n",
      "Requirement already satisfied: markdown>=2.6.8 in /apps/anvil/external/apps/conda/2024.02/lib/python3.11/site-packages (from tensorboard<2.14,>=2.13->tensorflow==2.13.0) (3.4.1)\n",
      "Requirement already satisfied: requests<3,>=2.21.0 in /apps/anvil/external/apps/conda/2024.02/lib/python3.11/site-packages (from tensorboard<2.14,>=2.13->tensorflow==2.13.0) (2.31.0)\n",
      "Requirement already satisfied: tensorboard-data-server<0.8.0,>=0.7.0 in ./.local/lib/python3.11/site-packages (from tensorboard<2.14,>=2.13->tensorflow==2.13.0) (0.7.2)\n",
      "Requirement already satisfied: werkzeug>=1.0.1 in /apps/anvil/external/apps/conda/2024.02/lib/python3.11/site-packages (from tensorboard<2.14,>=2.13->tensorflow==2.13.0) (2.2.3)\n",
      "Requirement already satisfied: cachetools<6.0,>=2.0.0 in /apps/anvil/external/apps/conda/2024.02/lib/python3.11/site-packages (from google-auth<3,>=1.6.3->tensorboard<2.14,>=2.13->tensorflow==2.13.0) (4.2.2)\n",
      "Requirement already satisfied: pyasn1-modules>=0.2.1 in /apps/anvil/external/apps/conda/2024.02/lib/python3.11/site-packages (from google-auth<3,>=1.6.3->tensorboard<2.14,>=2.13->tensorflow==2.13.0) (0.2.8)\n",
      "Requirement already satisfied: rsa<5,>=3.1.4 in ./.local/lib/python3.11/site-packages (from google-auth<3,>=1.6.3->tensorboard<2.14,>=2.13->tensorflow==2.13.0) (4.9)\n",
      "Requirement already satisfied: requests-oauthlib>=0.7.0 in ./.local/lib/python3.11/site-packages (from google-auth-oauthlib<1.1,>=0.5->tensorboard<2.14,>=2.13->tensorflow==2.13.0) (2.0.0)\n",
      "Requirement already satisfied: charset-normalizer<4,>=2 in /apps/anvil/external/apps/conda/2024.02/lib/python3.11/site-packages (from requests<3,>=2.21.0->tensorboard<2.14,>=2.13->tensorflow==2.13.0) (2.0.4)\n",
      "Requirement already satisfied: idna<4,>=2.5 in /apps/anvil/external/apps/conda/2024.02/lib/python3.11/site-packages (from requests<3,>=2.21.0->tensorboard<2.14,>=2.13->tensorflow==2.13.0) (3.4)\n",
      "Requirement already satisfied: urllib3<3,>=1.21.1 in /apps/anvil/external/apps/conda/2024.02/lib/python3.11/site-packages (from requests<3,>=2.21.0->tensorboard<2.14,>=2.13->tensorflow==2.13.0) (2.0.7)\n",
      "Requirement already satisfied: certifi>=2017.4.17 in /apps/anvil/external/apps/conda/2024.02/lib/python3.11/site-packages (from requests<3,>=2.21.0->tensorboard<2.14,>=2.13->tensorflow==2.13.0) (2024.2.2)\n",
      "Requirement already satisfied: MarkupSafe>=2.1.1 in /apps/anvil/external/apps/conda/2024.02/lib/python3.11/site-packages (from werkzeug>=1.0.1->tensorboard<2.14,>=2.13->tensorflow==2.13.0) (2.1.3)\n",
      "Requirement already satisfied: pyasn1<0.5.0,>=0.4.6 in /apps/anvil/external/apps/conda/2024.02/lib/python3.11/site-packages (from pyasn1-modules>=0.2.1->google-auth<3,>=1.6.3->tensorboard<2.14,>=2.13->tensorflow==2.13.0) (0.4.8)\n",
      "Requirement already satisfied: oauthlib>=3.0.0 in ./.local/lib/python3.11/site-packages (from requests-oauthlib>=0.7.0->google-auth-oauthlib<1.1,>=0.5->tensorboard<2.14,>=2.13->tensorflow==2.13.0) (3.2.2)\n",
      "Using cached tensorflow-2.13.0-cp311-cp311-manylinux_2_17_x86_64.manylinux2014_x86_64.whl (524.2 MB)\n",
      "\u001b[33mWARNING: Ignoring invalid distribution ~ensorflow (/home/x-hdilip/.local/lib/python3.11/site-packages)\u001b[0m\u001b[33m\n",
      "\u001b[0mInstalling collected packages: tensorflow\n",
      "\u001b[33mWARNING: Ignoring invalid distribution ~ensorflow (/home/x-hdilip/.local/lib/python3.11/site-packages)\u001b[0m\u001b[33m\n",
      "\u001b[0mSuccessfully installed tensorflow\n",
      "\u001b[33mWARNING: Ignoring invalid distribution ~ensorflow (/home/x-hdilip/.local/lib/python3.11/site-packages)\u001b[0m\u001b[33m\n",
      "\u001b[0m\u001b[33mWARNING: Ignoring invalid distribution ~ensorflow (/home/x-hdilip/.local/lib/python3.11/site-packages)\u001b[0m\u001b[33m\n",
      "\u001b[0m\u001b[33mWARNING: Ignoring invalid distribution ~ensorflow (/home/x-hdilip/.local/lib/python3.11/site-packages)\u001b[0m\u001b[33m\n",
      "\u001b[0mNote: you may need to restart the kernel to use updated packages.\n"
     ]
    }
   ],
   "source": [
    "pip install tensorflow==2.13.0 --user"
   ]
  },
  {
   "cell_type": "code",
   "execution_count": 31,
   "metadata": {},
   "outputs": [
    {
     "name": "stdout",
     "output_type": "stream",
     "text": [
      "2.13.0\n"
     ]
    },
    {
     "ename": "AttributeError",
     "evalue": "module 'tensorflow.keras' has no attribute '__version__'",
     "output_type": "error",
     "traceback": [
      "\u001b[0;31m---------------------------------------------------------------------------\u001b[0m",
      "\u001b[0;31mAttributeError\u001b[0m                            Traceback (most recent call last)",
      "Cell \u001b[0;32mIn[31], line 3\u001b[0m\n\u001b[1;32m      1\u001b[0m \u001b[38;5;28;01mimport\u001b[39;00m \u001b[38;5;21;01mtensorflow\u001b[39;00m \u001b[38;5;28;01mas\u001b[39;00m \u001b[38;5;21;01mtf\u001b[39;00m\n\u001b[1;32m      2\u001b[0m \u001b[38;5;28mprint\u001b[39m(tf\u001b[38;5;241m.\u001b[39m__version__)\n\u001b[0;32m----> 3\u001b[0m \u001b[38;5;28mprint\u001b[39m(tf\u001b[38;5;241m.\u001b[39mkeras\u001b[38;5;241m.\u001b[39m__version__)\n",
      "\u001b[0;31mAttributeError\u001b[0m: module 'tensorflow.keras' has no attribute '__version__'"
     ]
    }
   ],
   "source": [
    "import tensorflow as tf\n",
    "print(tf.__version__)\n",
    "print(tf.keras.__version__)"
   ]
  },
  {
   "cell_type": "code",
   "execution_count": 32,
   "metadata": {
    "id": "dzN6uUenwzpv"
   },
   "outputs": [],
   "source": [
    "resize_and_rescale= tf.keras.Sequential([\n",
    "tf.keras.layers.experimental.preprocessing.Resizing(IMAGE_SIZE,IMAGE_SIZE),\n",
    "tf.keras.layers.experimental.preprocessing.Rescaling(1.0/255)])"
   ]
  },
  {
   "cell_type": "code",
   "execution_count": 33,
   "metadata": {
    "id": "aSSu0muYto6y"
   },
   "outputs": [],
   "source": [
    "data_augmentation = tf.keras.Sequential([\n",
    "  layers.experimental.preprocessing.RandomFlip(\"horizontal_and_vertical\"),\n",
    "  layers.experimental.preprocessing.RandomRotation(0.2),\n",
    "  layers.experimental.preprocessing.RandomZoom(0.1),\n",
    "  layers.experimental.preprocessing.RandomContrast(0.1),\n",
    "])"
   ]
  },
  {
   "cell_type": "code",
   "execution_count": 34,
   "metadata": {
    "id": "_9lzZ-Y1xQ25"
   },
   "outputs": [],
   "source": [
    "train_ds = train_ds.map(\n",
    "    lambda x, y: (data_augmentation(x, training=True), y)\n",
    ").prefetch(buffer_size=tf.data.AUTOTUNE)"
   ]
  },
  {
   "cell_type": "code",
   "execution_count": 35,
   "metadata": {
    "id": "_ghR6XKU3rvC"
   },
   "outputs": [],
   "source": [
    "input_shape = (BATCH_SIZE, IMAGE_SIZE, IMAGE_SIZE, CHANNELS)\n",
    "n_classes = len(classes)"
   ]
  },
  {
   "cell_type": "code",
   "execution_count": 36,
   "metadata": {
    "colab": {
     "base_uri": "https://localhost:8080/"
    },
    "id": "F79XEFZA337Q",
    "outputId": "84f96799-f1a2-4f09-9fed-e6f12d920160"
   },
   "outputs": [
    {
     "data": {
      "text/plain": [
       "25"
      ]
     },
     "execution_count": 36,
     "metadata": {},
     "output_type": "execute_result"
    }
   ],
   "source": [
    "n_classes"
   ]
  },
  {
   "cell_type": "code",
   "execution_count": 37,
   "metadata": {
    "id": "QPo4jwf234zS"
   },
   "outputs": [],
   "source": [
    "import keras\n",
    "import keras.utils\n",
    "\n",
    "model_a = models.Sequential([\n",
    "    resize_and_rescale,\n",
    "    layers.Conv2D(32, kernel_size = (3,3), activation='relu', input_shape=input_shape, kernel_regularizer=keras.regularizers.L1L2()),\n",
    "    layers.Dropout(0.1),\n",
    "    layers.MaxPooling2D((2, 2)),\n",
    "    layers.Conv2D(64,  kernel_size = (3,3), activation='relu', kernel_regularizer=keras.regularizers.L1L2()),\n",
    "    layers.Dropout(0.2),\n",
    "    layers.MaxPooling2D((2, 2)),\n",
    "    layers.Conv2D(128,  kernel_size = (3,3), activation='relu'),\n",
    "    layers.Dropout(0.3),\n",
    "    layers.MaxPooling2D((2, 2)),\n",
    "    layers.Conv2D(256, (3, 3), activation='relu'),\n",
    "    layers.Dropout(0.5),\n",
    "    layers.GlobalMaxPooling2D(),\n",
    "    layers.Flatten(),\n",
    "    layers.Dense(n_classes, activation='softmax'),\n",
    "])"
   ]
  },
  {
   "cell_type": "code",
   "execution_count": 21,
   "metadata": {
    "id": "2RMPH-Vm5YgQ"
   },
   "outputs": [],
   "source": [
    "model_a.build(input_shape=input_shape)"
   ]
  },
  {
   "cell_type": "code",
   "execution_count": 18,
   "metadata": {
    "id": "5sxmFAdZ6b4d"
   },
   "outputs": [],
   "source": [
    "model_a.compile(\n",
    "    optimizer=keras.optimizers.Adam(weight_decay=0.01),\n",
    "    loss=tf.keras.losses.SparseCategoricalCrossentropy(from_logits=False),\n",
    "    metrics=['accuracy']\n",
    ")"
   ]
  },
  {
   "cell_type": "code",
   "execution_count": null,
   "metadata": {
    "colab": {
     "base_uri": "https://localhost:8080/"
    },
    "id": "b086Qjbs6jM5",
    "outputId": "df67fdc7-c62b-4534-a99b-79d7195dbb4c"
   },
   "outputs": [
    {
     "name": "stdout",
     "output_type": "stream",
     "text": [
      "Epoch 1/60\n",
      "938/938 [==============================] - 281s 295ms/step - loss: 2.4205 - accuracy: 0.2623 - val_loss: 2.0360 - val_accuracy: 0.4963\n",
      "Epoch 2/60\n",
      "938/938 [==============================] - 277s 295ms/step - loss: 1.4639 - accuracy: 0.5655 - val_loss: 1.6855 - val_accuracy: 0.6000\n",
      "Epoch 3/60\n",
      "938/938 [==============================] - 278s 297ms/step - loss: 1.1683 - accuracy: 0.6539 - val_loss: 1.4921 - val_accuracy: 0.6888\n",
      "Epoch 4/60\n",
      "938/938 [==============================] - 278s 296ms/step - loss: 1.0194 - accuracy: 0.6991 - val_loss: 1.4360 - val_accuracy: 0.7003\n",
      "Epoch 5/60\n",
      "938/938 [==============================] - 278s 296ms/step - loss: 0.9249 - accuracy: 0.7245 - val_loss: 1.2601 - val_accuracy: 0.7715\n",
      "Epoch 6/60\n",
      "938/938 [==============================] - 277s 295ms/step - loss: 0.8614 - accuracy: 0.7427 - val_loss: 1.2438 - val_accuracy: 0.7347\n",
      "Epoch 7/60\n",
      "938/938 [==============================] - 275s 293ms/step - loss: 0.8104 - accuracy: 0.7573 - val_loss: 1.1793 - val_accuracy: 0.7416\n",
      "Epoch 8/60\n",
      "938/938 [==============================] - 274s 292ms/step - loss: 0.7582 - accuracy: 0.7705 - val_loss: 1.1087 - val_accuracy: 0.7632\n",
      "Epoch 9/60\n",
      "938/938 [==============================] - 274s 292ms/step - loss: 0.7357 - accuracy: 0.7761 - val_loss: 1.0957 - val_accuracy: 0.7651\n",
      "Epoch 10/60\n",
      "938/938 [==============================] - 272s 290ms/step - loss: 0.7055 - accuracy: 0.7873 - val_loss: 1.0156 - val_accuracy: 0.7957\n",
      "Epoch 11/60\n",
      "938/938 [==============================] - 274s 292ms/step - loss: 0.6902 - accuracy: 0.7913 - val_loss: 1.0541 - val_accuracy: 0.8064\n",
      "Epoch 12/60\n",
      "938/938 [==============================] - 273s 291ms/step - loss: 0.6668 - accuracy: 0.7969 - val_loss: 0.9830 - val_accuracy: 0.7875\n",
      "Epoch 13/60\n",
      "938/938 [==============================] - 274s 292ms/step - loss: 0.6471 - accuracy: 0.8033 - val_loss: 1.0072 - val_accuracy: 0.7837\n",
      "Epoch 14/60\n",
      "938/938 [==============================] - 272s 290ms/step - loss: 0.6340 - accuracy: 0.8085 - val_loss: 0.9524 - val_accuracy: 0.8131\n",
      "Epoch 15/60\n",
      "938/938 [==============================] - 274s 292ms/step - loss: 0.6182 - accuracy: 0.8108 - val_loss: 0.9633 - val_accuracy: 0.8024\n",
      "Epoch 16/60\n",
      "938/938 [==============================] - 275s 293ms/step - loss: 0.6056 - accuracy: 0.8157 - val_loss: 0.9244 - val_accuracy: 0.8088\n",
      "Epoch 17/60\n",
      "938/938 [==============================] - 275s 293ms/step - loss: 0.5867 - accuracy: 0.8195 - val_loss: 0.9682 - val_accuracy: 0.7933\n",
      "Epoch 18/60\n",
      "938/938 [==============================] - 274s 292ms/step - loss: 0.5902 - accuracy: 0.8197 - val_loss: 0.9173 - val_accuracy: 0.8032\n",
      "Epoch 19/60\n",
      "938/938 [==============================] - 277s 295ms/step - loss: 0.5776 - accuracy: 0.8237 - val_loss: 0.8538 - val_accuracy: 0.8251\n",
      "Epoch 20/60\n",
      "938/938 [==============================] - 278s 296ms/step - loss: 0.5670 - accuracy: 0.8276 - val_loss: 0.9454 - val_accuracy: 0.7845\n",
      "Epoch 21/60\n",
      "902/938 [===========================>..] - ETA: 10s - loss: 0.5605 - accuracy: 0.8278"
     ]
    }
   ],
   "source": [
    "history_a = model_a.fit(\n",
    "    train_ds,\n",
    "    batch_size=BATCH_SIZE,\n",
    "    validation_data=validation_ds,\n",
    "    verbose=1,\n",
    "    epochs=60,\n",
    "    callbacks=tf.keras.callbacks.EarlyStopping(monitor = \"val_accuracy\", # watch the val accuracy metric\n",
    "                                              patience = 10,\n",
    "                                              restore_best_weights = True),\n",
    ")"
   ]
  },
  {
   "cell_type": "code",
   "execution_count": null,
   "metadata": {
    "id": "LUxYWmOXM0lm"
   },
   "outputs": [],
   "source": [
    "model_a.save('model_a.keras')"
   ]
  },
  {
   "cell_type": "code",
   "execution_count": 58,
   "metadata": {},
   "outputs": [],
   "source": [
    "pretrained_model = tf.keras.applications.EfficientNetB3(\n",
    "    input_shape=(IMAGE_SIZE, IMAGE_SIZE, 3),\n",
    "    include_top=False,\n",
    "    weights='imagenet',\n",
    "    pooling='max'\n",
    ")"
   ]
  },
  {
   "cell_type": "code",
   "execution_count": 59,
   "metadata": {},
   "outputs": [],
   "source": [
    "for i, layer in enumerate(pretrained_model.layers):\n",
    "    pretrained_model.layers[i].trainable = False\n",
    "    \n",
    "model_b = models.Sequential([\n",
    "    tf.keras.layers.experimental.preprocessing.Resizing(IMAGE_SIZE,IMAGE_SIZE),\n",
    "    pretrained_model,\n",
    "    layers.Dense(256, activation=\"relu\"),\n",
    "    layers.BatchNormalization(),\n",
    "    layers.Dropout(0.2),    \n",
    "    layers.Dense(n_classes, activation='softmax'),\n",
    "])"
   ]
  },
  {
   "cell_type": "code",
   "execution_count": 60,
   "metadata": {},
   "outputs": [],
   "source": [
    "model_b.build(input_shape=input_shape)"
   ]
  },
  {
   "cell_type": "code",
   "execution_count": 61,
   "metadata": {},
   "outputs": [],
   "source": [
    "model_b.compile(\n",
    "    optimizer=keras.optimizers.Adam(weight_decay=0.01),\n",
    "    loss=tf.keras.losses.SparseCategoricalCrossentropy(from_logits=False),\n",
    "    metrics=['accuracy']\n",
    ")"
   ]
  },
  {
   "cell_type": "code",
   "execution_count": 62,
   "metadata": {},
   "outputs": [
    {
     "name": "stdout",
     "output_type": "stream",
     "text": [
      "Epoch 1/30\n",
      "469/469 [==============================] - 423s 878ms/step - loss: 0.4458 - accuracy: 0.8703 - val_loss: 0.2659 - val_accuracy: 0.9208\n",
      "Epoch 2/30\n",
      "469/469 [==============================] - 420s 897ms/step - loss: 0.2316 - accuracy: 0.9303 - val_loss: 0.2398 - val_accuracy: 0.9304\n",
      "Epoch 3/30\n",
      "469/469 [==============================] - 415s 885ms/step - loss: 0.1855 - accuracy: 0.9437 - val_loss: 0.1984 - val_accuracy: 0.9440\n",
      "Epoch 4/30\n",
      "469/469 [==============================] - 407s 868ms/step - loss: 0.1564 - accuracy: 0.9510 - val_loss: 0.2266 - val_accuracy: 0.9339\n",
      "Epoch 5/30\n",
      "469/469 [==============================] - 409s 873ms/step - loss: 0.1381 - accuracy: 0.9581 - val_loss: 0.2060 - val_accuracy: 0.9368\n",
      "Epoch 6/30\n",
      "469/469 [==============================] - 426s 908ms/step - loss: 0.1237 - accuracy: 0.9631 - val_loss: 0.1879 - val_accuracy: 0.9477\n",
      "Epoch 7/30\n",
      "469/469 [==============================] - 430s 918ms/step - loss: 0.1193 - accuracy: 0.9622 - val_loss: 0.1762 - val_accuracy: 0.9483\n",
      "Epoch 8/30\n",
      "469/469 [==============================] - 427s 912ms/step - loss: 0.1106 - accuracy: 0.9649 - val_loss: 0.1890 - val_accuracy: 0.9475\n",
      "Epoch 9/30\n",
      "469/469 [==============================] - 431s 919ms/step - loss: 0.1012 - accuracy: 0.9680 - val_loss: 0.1746 - val_accuracy: 0.9515\n",
      "Epoch 10/30\n",
      "469/469 [==============================] - 424s 904ms/step - loss: 0.0974 - accuracy: 0.9691 - val_loss: 0.1885 - val_accuracy: 0.9475\n",
      "Epoch 11/30\n",
      "469/469 [==============================] - 431s 920ms/step - loss: 0.0975 - accuracy: 0.9684 - val_loss: 0.1692 - val_accuracy: 0.9547\n",
      "Epoch 12/30\n",
      "469/469 [==============================] - 424s 905ms/step - loss: 0.0899 - accuracy: 0.9712 - val_loss: 0.1683 - val_accuracy: 0.9515\n",
      "Epoch 13/30\n",
      "469/469 [==============================] - 422s 900ms/step - loss: 0.0839 - accuracy: 0.9727 - val_loss: 0.1925 - val_accuracy: 0.9437\n",
      "Epoch 14/30\n",
      "469/469 [==============================] - 420s 895ms/step - loss: 0.0881 - accuracy: 0.9714 - val_loss: 0.1909 - val_accuracy: 0.9453\n",
      "Epoch 15/30\n",
      "469/469 [==============================] - 422s 900ms/step - loss: 0.0814 - accuracy: 0.9741 - val_loss: 0.1800 - val_accuracy: 0.9472\n",
      "Epoch 16/30\n",
      "469/469 [==============================] - 425s 907ms/step - loss: 0.0805 - accuracy: 0.9725 - val_loss: 0.1706 - val_accuracy: 0.9475\n",
      "Epoch 17/30\n",
      "469/469 [==============================] - 429s 915ms/step - loss: 0.0776 - accuracy: 0.9757 - val_loss: 0.1565 - val_accuracy: 0.9541\n",
      "Epoch 18/30\n",
      "469/469 [==============================] - 434s 925ms/step - loss: 0.0742 - accuracy: 0.9755 - val_loss: 0.1685 - val_accuracy: 0.9539\n",
      "Epoch 19/30\n",
      "469/469 [==============================] - 431s 919ms/step - loss: 0.0719 - accuracy: 0.9764 - val_loss: 0.1830 - val_accuracy: 0.9493\n",
      "Epoch 20/30\n",
      "469/469 [==============================] - 429s 914ms/step - loss: 0.0721 - accuracy: 0.9765 - val_loss: 0.1736 - val_accuracy: 0.9549\n",
      "Epoch 21/30\n",
      "469/469 [==============================] - 421s 898ms/step - loss: 0.0678 - accuracy: 0.9775 - val_loss: 0.1639 - val_accuracy: 0.9525\n",
      "Epoch 22/30\n",
      "469/469 [==============================] - 422s 900ms/step - loss: 0.0607 - accuracy: 0.9797 - val_loss: 0.2122 - val_accuracy: 0.9421\n",
      "Epoch 23/30\n",
      "469/469 [==============================] - 425s 907ms/step - loss: 0.0690 - accuracy: 0.9765 - val_loss: 0.1897 - val_accuracy: 0.9515\n",
      "Epoch 24/30\n",
      "469/469 [==============================] - 424s 904ms/step - loss: 0.0666 - accuracy: 0.9772 - val_loss: 0.1795 - val_accuracy: 0.9525\n",
      "Epoch 25/30\n",
      "469/469 [==============================] - 424s 905ms/step - loss: 0.0611 - accuracy: 0.9797 - val_loss: 0.1796 - val_accuracy: 0.9504\n",
      "Epoch 26/30\n",
      "469/469 [==============================] - 423s 903ms/step - loss: 0.0687 - accuracy: 0.9770 - val_loss: 0.1800 - val_accuracy: 0.9496\n",
      "Epoch 27/30\n",
      "469/469 [==============================] - 422s 900ms/step - loss: 0.0683 - accuracy: 0.9772 - val_loss: 0.1769 - val_accuracy: 0.9504\n",
      "Epoch 28/30\n",
      "469/469 [==============================] - 421s 898ms/step - loss: 0.0614 - accuracy: 0.9804 - val_loss: 0.1765 - val_accuracy: 0.9531\n",
      "Epoch 29/30\n",
      "469/469 [==============================] - 415s 885ms/step - loss: 0.0641 - accuracy: 0.9791 - val_loss: 0.1560 - val_accuracy: 0.9576\n",
      "Epoch 30/30\n",
      "469/469 [==============================] - 412s 878ms/step - loss: 0.0600 - accuracy: 0.9804 - val_loss: 0.1814 - val_accuracy: 0.9488\n",
      "INFO:tensorflow:Assets written to: model_b/assets\n"
     ]
    },
    {
     "name": "stderr",
     "output_type": "stream",
     "text": [
      "INFO:tensorflow:Assets written to: model_b/assets\n"
     ]
    }
   ],
   "source": [
    "history_b = model_b.fit(\n",
    "    train_ds,\n",
    "    batch_size=BATCH_SIZE,\n",
    "    validation_data=validation_ds,\n",
    "    verbose=1,\n",
    "    epochs=30,\n",
    "    callbacks=tf.keras.callbacks.EarlyStopping(monitor = \"val_accuracy\", # watch the val accuracy metric\n",
    "                                              patience = 20,\n",
    "                                              restore_best_weights = True),\n",
    ")"
   ]
  },
  {
   "cell_type": "code",
   "execution_count": 64,
   "metadata": {},
   "outputs": [],
   "source": [
    "model_b.save('model_b.keras')"
   ]
  },
  {
   "cell_type": "code",
   "execution_count": 65,
   "metadata": {},
   "outputs": [
    {
     "name": "stdout",
     "output_type": "stream",
     "text": [
      "59/59 [==============================] - 50s 846ms/step - loss: 0.1633 - accuracy: 0.9557\n"
     ]
    },
    {
     "data": {
      "text/plain": [
       "[0.16327223181724548, 0.9557333588600159]"
      ]
     },
     "execution_count": 65,
     "metadata": {},
     "output_type": "execute_result"
    }
   ],
   "source": [
    "model_b.evaluate(test_ds)"
   ]
  }
 ],
 "metadata": {
  "accelerator": "GPU",
  "colab": {
   "gpuType": "T4",
   "provenance": []
  },
  "kernelspec": {
   "display_name": "Python 3.11 (Anaconda 2024.02)",
   "language": "python",
   "name": "anaconda-2024.02-py311"
  },
  "language_info": {
   "codemirror_mode": {
    "name": "ipython",
    "version": 3
   },
   "file_extension": ".py",
   "mimetype": "text/x-python",
   "name": "python",
   "nbconvert_exporter": "python",
   "pygments_lexer": "ipython3",
   "version": "3.11.7"
  }
 },
 "nbformat": 4,
 "nbformat_minor": 4
}
